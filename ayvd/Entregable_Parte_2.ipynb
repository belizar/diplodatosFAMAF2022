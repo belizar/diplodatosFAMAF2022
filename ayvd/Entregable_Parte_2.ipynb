{
  "nbformat": 4,
  "nbformat_minor": 0,
  "metadata": {
    "colab": {
      "name": "CEntregable - Parte 2.ipynb",
      "provenance": [],
      "collapsed_sections": []
    },
    "kernelspec": {
      "name": "python3",
      "display_name": "Python 3"
    }
  },
  "cells": [
    {
      "cell_type": "markdown",
      "metadata": {
        "id": "LYvAOR2VzHmW"
      },
      "source": [
        "\n",
        "**Diplomatura en Ciencia de Datos, Aprendizaje Automático y sus Aplicaciones**\n",
        "\n",
        "**Edición 2022**\n",
        "\n",
        "---\n",
        "\n",
        "# Trabajo práctico entregable - Parte 2"
      ]
    },
    {
      "cell_type": "code",
      "metadata": {
        "id": "Xwdfo7z20TUK"
      },
      "source": [
        "import io\n",
        "import math\n",
        "import matplotlib\n",
        "import matplotlib.pyplot as plt\n",
        "import numpy\n",
        "import pandas as pd\n",
        "import seaborn\n",
        "import scipy\n",
        "\n",
        "seaborn.set_context('talk')"
      ],
      "execution_count": 1,
      "outputs": []
    },
    {
      "cell_type": "markdown",
      "metadata": {
        "id": "XY2Hl-Ma07Nn"
      },
      "source": [
        "## Lectura del dataset\n",
        "\n",
        "En la notebook 00 se explican los detalles de la siguiente sección."
      ]
    },
    {
      "cell_type": "code",
      "metadata": {
        "id": "Vviv_sqXdR5W"
      },
      "source": [
        "url = 'https://cs.famaf.unc.edu.ar/~mteruel/datasets/diplodatos/sysarmy_survey_2020_processed.csv'\n",
        "df = pd.read_csv(url)"
      ],
      "execution_count": 2,
      "outputs": []
    },
    {
      "cell_type": "code",
      "metadata": {
        "id": "gckNHXXLktJ4",
        "colab": {
          "base_uri": "https://localhost:8080/",
          "height": 323
        },
        "outputId": "07930f7c-14ca-4b86-b7be-0fcc1716d2ab"
      },
      "source": [
        "df[:3]"
      ],
      "execution_count": 3,
      "outputs": [
        {
          "output_type": "execute_result",
          "data": {
            "text/plain": [
              "  profile_gender  profile_age work_country                    work_province  \\\n",
              "0          Mujer           26    Argentina  Ciudad Autónoma de Buenos Aires   \n",
              "1         Hombre           29    Argentina                       Corrientes   \n",
              "2          Mujer           22    Argentina  Ciudad Autónoma de Buenos Aires   \n",
              "\n",
              "   profile_years_experience  work_years_in_company  \\\n",
              "0                       3.0                    3.0   \n",
              "1                       5.0                    2.0   \n",
              "2                       2.0                    0.0   \n",
              "\n",
              "   work_years_in_current_position  work_people_in_charge_of  \\\n",
              "0                             3.0                         0   \n",
              "1                             2.0                         4   \n",
              "2                             0.0                         0   \n",
              "\n",
              "  profile_studies_level profile_studies_level_state  ...  \\\n",
              "0         Universitario                    En curso  ...   \n",
              "1         Universitario                    En curso  ...   \n",
              "2            Secundario                  Completado  ...   \n",
              "\n",
              "  work_has_violence_situations profile_sexual_orientation  \\\n",
              "0         En mi trabajo actual                 Homosexual   \n",
              "1                        Jamás               Heterosexual   \n",
              "2       En un trabajo anterior           Bisexual o queer   \n",
              "\n",
              "  profile_has_disabilities profile_has_disabilities_hiring_difficulties  \\\n",
              "0                      NaN                                          NaN   \n",
              "1                   Visual                                           No   \n",
              "2                      NaN                                           No   \n",
              "\n",
              "  company_employee_number                          company_main_activity  \\\n",
              "0                501-1000  Servicios / Consultoría de Software / Digital   \n",
              "1                 201-500                               Otras industrias   \n",
              "2               2001-5000                               Otras industrias   \n",
              "\n",
              "  company_recommended company_diversity_policies  \\\n",
              "0                   7                          2   \n",
              "1                   8                          9   \n",
              "2                   6                          9   \n",
              "\n",
              "                              company_extra_benefits  \\\n",
              "0  Capacitaciones y/o cursos, Comidas pagas / sub...   \n",
              "1  Horarios flexibles, Stock options / RSUs, Viát...   \n",
              "2  Clases de gimnasia online, Comidas pagas / sub...   \n",
              "\n",
              "  company_best_companies_city  \n",
              "0                         NaN  \n",
              "1                         NaN  \n",
              "2                         NaN  \n",
              "\n",
              "[3 rows x 48 columns]"
            ],
            "text/html": [
              "\n",
              "  <div id=\"df-5a800f18-edaf-44f9-8125-efb2b55ecfd0\">\n",
              "    <div class=\"colab-df-container\">\n",
              "      <div>\n",
              "<style scoped>\n",
              "    .dataframe tbody tr th:only-of-type {\n",
              "        vertical-align: middle;\n",
              "    }\n",
              "\n",
              "    .dataframe tbody tr th {\n",
              "        vertical-align: top;\n",
              "    }\n",
              "\n",
              "    .dataframe thead th {\n",
              "        text-align: right;\n",
              "    }\n",
              "</style>\n",
              "<table border=\"1\" class=\"dataframe\">\n",
              "  <thead>\n",
              "    <tr style=\"text-align: right;\">\n",
              "      <th></th>\n",
              "      <th>profile_gender</th>\n",
              "      <th>profile_age</th>\n",
              "      <th>work_country</th>\n",
              "      <th>work_province</th>\n",
              "      <th>profile_years_experience</th>\n",
              "      <th>work_years_in_company</th>\n",
              "      <th>work_years_in_current_position</th>\n",
              "      <th>work_people_in_charge_of</th>\n",
              "      <th>profile_studies_level</th>\n",
              "      <th>profile_studies_level_state</th>\n",
              "      <th>...</th>\n",
              "      <th>work_has_violence_situations</th>\n",
              "      <th>profile_sexual_orientation</th>\n",
              "      <th>profile_has_disabilities</th>\n",
              "      <th>profile_has_disabilities_hiring_difficulties</th>\n",
              "      <th>company_employee_number</th>\n",
              "      <th>company_main_activity</th>\n",
              "      <th>company_recommended</th>\n",
              "      <th>company_diversity_policies</th>\n",
              "      <th>company_extra_benefits</th>\n",
              "      <th>company_best_companies_city</th>\n",
              "    </tr>\n",
              "  </thead>\n",
              "  <tbody>\n",
              "    <tr>\n",
              "      <th>0</th>\n",
              "      <td>Mujer</td>\n",
              "      <td>26</td>\n",
              "      <td>Argentina</td>\n",
              "      <td>Ciudad Autónoma de Buenos Aires</td>\n",
              "      <td>3.0</td>\n",
              "      <td>3.0</td>\n",
              "      <td>3.0</td>\n",
              "      <td>0</td>\n",
              "      <td>Universitario</td>\n",
              "      <td>En curso</td>\n",
              "      <td>...</td>\n",
              "      <td>En mi trabajo actual</td>\n",
              "      <td>Homosexual</td>\n",
              "      <td>NaN</td>\n",
              "      <td>NaN</td>\n",
              "      <td>501-1000</td>\n",
              "      <td>Servicios / Consultoría de Software / Digital</td>\n",
              "      <td>7</td>\n",
              "      <td>2</td>\n",
              "      <td>Capacitaciones y/o cursos, Comidas pagas / sub...</td>\n",
              "      <td>NaN</td>\n",
              "    </tr>\n",
              "    <tr>\n",
              "      <th>1</th>\n",
              "      <td>Hombre</td>\n",
              "      <td>29</td>\n",
              "      <td>Argentina</td>\n",
              "      <td>Corrientes</td>\n",
              "      <td>5.0</td>\n",
              "      <td>2.0</td>\n",
              "      <td>2.0</td>\n",
              "      <td>4</td>\n",
              "      <td>Universitario</td>\n",
              "      <td>En curso</td>\n",
              "      <td>...</td>\n",
              "      <td>Jamás</td>\n",
              "      <td>Heterosexual</td>\n",
              "      <td>Visual</td>\n",
              "      <td>No</td>\n",
              "      <td>201-500</td>\n",
              "      <td>Otras industrias</td>\n",
              "      <td>8</td>\n",
              "      <td>9</td>\n",
              "      <td>Horarios flexibles, Stock options / RSUs, Viát...</td>\n",
              "      <td>NaN</td>\n",
              "    </tr>\n",
              "    <tr>\n",
              "      <th>2</th>\n",
              "      <td>Mujer</td>\n",
              "      <td>22</td>\n",
              "      <td>Argentina</td>\n",
              "      <td>Ciudad Autónoma de Buenos Aires</td>\n",
              "      <td>2.0</td>\n",
              "      <td>0.0</td>\n",
              "      <td>0.0</td>\n",
              "      <td>0</td>\n",
              "      <td>Secundario</td>\n",
              "      <td>Completado</td>\n",
              "      <td>...</td>\n",
              "      <td>En un trabajo anterior</td>\n",
              "      <td>Bisexual o queer</td>\n",
              "      <td>NaN</td>\n",
              "      <td>No</td>\n",
              "      <td>2001-5000</td>\n",
              "      <td>Otras industrias</td>\n",
              "      <td>6</td>\n",
              "      <td>9</td>\n",
              "      <td>Clases de gimnasia online, Comidas pagas / sub...</td>\n",
              "      <td>NaN</td>\n",
              "    </tr>\n",
              "  </tbody>\n",
              "</table>\n",
              "<p>3 rows × 48 columns</p>\n",
              "</div>\n",
              "      <button class=\"colab-df-convert\" onclick=\"convertToInteractive('df-5a800f18-edaf-44f9-8125-efb2b55ecfd0')\"\n",
              "              title=\"Convert this dataframe to an interactive table.\"\n",
              "              style=\"display:none;\">\n",
              "        \n",
              "  <svg xmlns=\"http://www.w3.org/2000/svg\" height=\"24px\"viewBox=\"0 0 24 24\"\n",
              "       width=\"24px\">\n",
              "    <path d=\"M0 0h24v24H0V0z\" fill=\"none\"/>\n",
              "    <path d=\"M18.56 5.44l.94 2.06.94-2.06 2.06-.94-2.06-.94-.94-2.06-.94 2.06-2.06.94zm-11 1L8.5 8.5l.94-2.06 2.06-.94-2.06-.94L8.5 2.5l-.94 2.06-2.06.94zm10 10l.94 2.06.94-2.06 2.06-.94-2.06-.94-.94-2.06-.94 2.06-2.06.94z\"/><path d=\"M17.41 7.96l-1.37-1.37c-.4-.4-.92-.59-1.43-.59-.52 0-1.04.2-1.43.59L10.3 9.45l-7.72 7.72c-.78.78-.78 2.05 0 2.83L4 21.41c.39.39.9.59 1.41.59.51 0 1.02-.2 1.41-.59l7.78-7.78 2.81-2.81c.8-.78.8-2.07 0-2.86zM5.41 20L4 18.59l7.72-7.72 1.47 1.35L5.41 20z\"/>\n",
              "  </svg>\n",
              "      </button>\n",
              "      \n",
              "  <style>\n",
              "    .colab-df-container {\n",
              "      display:flex;\n",
              "      flex-wrap:wrap;\n",
              "      gap: 12px;\n",
              "    }\n",
              "\n",
              "    .colab-df-convert {\n",
              "      background-color: #E8F0FE;\n",
              "      border: none;\n",
              "      border-radius: 50%;\n",
              "      cursor: pointer;\n",
              "      display: none;\n",
              "      fill: #1967D2;\n",
              "      height: 32px;\n",
              "      padding: 0 0 0 0;\n",
              "      width: 32px;\n",
              "    }\n",
              "\n",
              "    .colab-df-convert:hover {\n",
              "      background-color: #E2EBFA;\n",
              "      box-shadow: 0px 1px 2px rgba(60, 64, 67, 0.3), 0px 1px 3px 1px rgba(60, 64, 67, 0.15);\n",
              "      fill: #174EA6;\n",
              "    }\n",
              "\n",
              "    [theme=dark] .colab-df-convert {\n",
              "      background-color: #3B4455;\n",
              "      fill: #D2E3FC;\n",
              "    }\n",
              "\n",
              "    [theme=dark] .colab-df-convert:hover {\n",
              "      background-color: #434B5C;\n",
              "      box-shadow: 0px 1px 3px 1px rgba(0, 0, 0, 0.15);\n",
              "      filter: drop-shadow(0px 1px 2px rgba(0, 0, 0, 0.3));\n",
              "      fill: #FFFFFF;\n",
              "    }\n",
              "  </style>\n",
              "\n",
              "      <script>\n",
              "        const buttonEl =\n",
              "          document.querySelector('#df-5a800f18-edaf-44f9-8125-efb2b55ecfd0 button.colab-df-convert');\n",
              "        buttonEl.style.display =\n",
              "          google.colab.kernel.accessAllowed ? 'block' : 'none';\n",
              "\n",
              "        async function convertToInteractive(key) {\n",
              "          const element = document.querySelector('#df-5a800f18-edaf-44f9-8125-efb2b55ecfd0');\n",
              "          const dataTable =\n",
              "            await google.colab.kernel.invokeFunction('convertToInteractive',\n",
              "                                                     [key], {});\n",
              "          if (!dataTable) return;\n",
              "\n",
              "          const docLinkHtml = 'Like what you see? Visit the ' +\n",
              "            '<a target=\"_blank\" href=https://colab.research.google.com/notebooks/data_table.ipynb>data table notebook</a>'\n",
              "            + ' to learn more about interactive tables.';\n",
              "          element.innerHTML = '';\n",
              "          dataTable['output_type'] = 'display_data';\n",
              "          await google.colab.output.renderOutput(dataTable, element);\n",
              "          const docLink = document.createElement('div');\n",
              "          docLink.innerHTML = docLinkHtml;\n",
              "          element.appendChild(docLink);\n",
              "        }\n",
              "      </script>\n",
              "    </div>\n",
              "  </div>\n",
              "  "
            ]
          },
          "metadata": {},
          "execution_count": 3
        }
      ]
    },
    {
      "cell_type": "code",
      "metadata": {
        "id": "2lzmzK1NuPNT",
        "colab": {
          "base_uri": "https://localhost:8080/",
          "height": 206
        },
        "outputId": "036625c3-9dfb-499b-c1dc-58c850695e21"
      },
      "source": [
        "df[['profile_gender', 'salary_monthly_NETO']].groupby('profile_gender').describe()"
      ],
      "execution_count": 4,
      "outputs": [
        {
          "output_type": "execute_result",
          "data": {
            "text/plain": [
              "               salary_monthly_NETO                                     \\\n",
              "                             count          mean            std   min   \n",
              "profile_gender                                                          \n",
              "Hombre                      4944.0  98836.063558  102159.664237   1.0   \n",
              "Mujer                        908.0  73501.414465   56256.880181   2.0   \n",
              "Otros                         31.0  95441.354839   88635.674358  40.0   \n",
              "\n",
              "                                                       \n",
              "                    25%      50%       75%        max  \n",
              "profile_gender                                         \n",
              "Hombre          53285.0  80000.0  110000.0  2080000.0  \n",
              "Mujer           43818.0  65000.0   92000.0   800000.0  \n",
              "Otros           39500.0  74000.0  117500.0   380000.0  "
            ],
            "text/html": [
              "\n",
              "  <div id=\"df-a8842a7b-e2b4-4144-ad8d-94df8d1292dd\">\n",
              "    <div class=\"colab-df-container\">\n",
              "      <div>\n",
              "<style scoped>\n",
              "    .dataframe tbody tr th:only-of-type {\n",
              "        vertical-align: middle;\n",
              "    }\n",
              "\n",
              "    .dataframe tbody tr th {\n",
              "        vertical-align: top;\n",
              "    }\n",
              "\n",
              "    .dataframe thead tr th {\n",
              "        text-align: left;\n",
              "    }\n",
              "\n",
              "    .dataframe thead tr:last-of-type th {\n",
              "        text-align: right;\n",
              "    }\n",
              "</style>\n",
              "<table border=\"1\" class=\"dataframe\">\n",
              "  <thead>\n",
              "    <tr>\n",
              "      <th></th>\n",
              "      <th colspan=\"8\" halign=\"left\">salary_monthly_NETO</th>\n",
              "    </tr>\n",
              "    <tr>\n",
              "      <th></th>\n",
              "      <th>count</th>\n",
              "      <th>mean</th>\n",
              "      <th>std</th>\n",
              "      <th>min</th>\n",
              "      <th>25%</th>\n",
              "      <th>50%</th>\n",
              "      <th>75%</th>\n",
              "      <th>max</th>\n",
              "    </tr>\n",
              "    <tr>\n",
              "      <th>profile_gender</th>\n",
              "      <th></th>\n",
              "      <th></th>\n",
              "      <th></th>\n",
              "      <th></th>\n",
              "      <th></th>\n",
              "      <th></th>\n",
              "      <th></th>\n",
              "      <th></th>\n",
              "    </tr>\n",
              "  </thead>\n",
              "  <tbody>\n",
              "    <tr>\n",
              "      <th>Hombre</th>\n",
              "      <td>4944.0</td>\n",
              "      <td>98836.063558</td>\n",
              "      <td>102159.664237</td>\n",
              "      <td>1.0</td>\n",
              "      <td>53285.0</td>\n",
              "      <td>80000.0</td>\n",
              "      <td>110000.0</td>\n",
              "      <td>2080000.0</td>\n",
              "    </tr>\n",
              "    <tr>\n",
              "      <th>Mujer</th>\n",
              "      <td>908.0</td>\n",
              "      <td>73501.414465</td>\n",
              "      <td>56256.880181</td>\n",
              "      <td>2.0</td>\n",
              "      <td>43818.0</td>\n",
              "      <td>65000.0</td>\n",
              "      <td>92000.0</td>\n",
              "      <td>800000.0</td>\n",
              "    </tr>\n",
              "    <tr>\n",
              "      <th>Otros</th>\n",
              "      <td>31.0</td>\n",
              "      <td>95441.354839</td>\n",
              "      <td>88635.674358</td>\n",
              "      <td>40.0</td>\n",
              "      <td>39500.0</td>\n",
              "      <td>74000.0</td>\n",
              "      <td>117500.0</td>\n",
              "      <td>380000.0</td>\n",
              "    </tr>\n",
              "  </tbody>\n",
              "</table>\n",
              "</div>\n",
              "      <button class=\"colab-df-convert\" onclick=\"convertToInteractive('df-a8842a7b-e2b4-4144-ad8d-94df8d1292dd')\"\n",
              "              title=\"Convert this dataframe to an interactive table.\"\n",
              "              style=\"display:none;\">\n",
              "        \n",
              "  <svg xmlns=\"http://www.w3.org/2000/svg\" height=\"24px\"viewBox=\"0 0 24 24\"\n",
              "       width=\"24px\">\n",
              "    <path d=\"M0 0h24v24H0V0z\" fill=\"none\"/>\n",
              "    <path d=\"M18.56 5.44l.94 2.06.94-2.06 2.06-.94-2.06-.94-.94-2.06-.94 2.06-2.06.94zm-11 1L8.5 8.5l.94-2.06 2.06-.94-2.06-.94L8.5 2.5l-.94 2.06-2.06.94zm10 10l.94 2.06.94-2.06 2.06-.94-2.06-.94-.94-2.06-.94 2.06-2.06.94z\"/><path d=\"M17.41 7.96l-1.37-1.37c-.4-.4-.92-.59-1.43-.59-.52 0-1.04.2-1.43.59L10.3 9.45l-7.72 7.72c-.78.78-.78 2.05 0 2.83L4 21.41c.39.39.9.59 1.41.59.51 0 1.02-.2 1.41-.59l7.78-7.78 2.81-2.81c.8-.78.8-2.07 0-2.86zM5.41 20L4 18.59l7.72-7.72 1.47 1.35L5.41 20z\"/>\n",
              "  </svg>\n",
              "      </button>\n",
              "      \n",
              "  <style>\n",
              "    .colab-df-container {\n",
              "      display:flex;\n",
              "      flex-wrap:wrap;\n",
              "      gap: 12px;\n",
              "    }\n",
              "\n",
              "    .colab-df-convert {\n",
              "      background-color: #E8F0FE;\n",
              "      border: none;\n",
              "      border-radius: 50%;\n",
              "      cursor: pointer;\n",
              "      display: none;\n",
              "      fill: #1967D2;\n",
              "      height: 32px;\n",
              "      padding: 0 0 0 0;\n",
              "      width: 32px;\n",
              "    }\n",
              "\n",
              "    .colab-df-convert:hover {\n",
              "      background-color: #E2EBFA;\n",
              "      box-shadow: 0px 1px 2px rgba(60, 64, 67, 0.3), 0px 1px 3px 1px rgba(60, 64, 67, 0.15);\n",
              "      fill: #174EA6;\n",
              "    }\n",
              "\n",
              "    [theme=dark] .colab-df-convert {\n",
              "      background-color: #3B4455;\n",
              "      fill: #D2E3FC;\n",
              "    }\n",
              "\n",
              "    [theme=dark] .colab-df-convert:hover {\n",
              "      background-color: #434B5C;\n",
              "      box-shadow: 0px 1px 3px 1px rgba(0, 0, 0, 0.15);\n",
              "      filter: drop-shadow(0px 1px 2px rgba(0, 0, 0, 0.3));\n",
              "      fill: #FFFFFF;\n",
              "    }\n",
              "  </style>\n",
              "\n",
              "      <script>\n",
              "        const buttonEl =\n",
              "          document.querySelector('#df-a8842a7b-e2b4-4144-ad8d-94df8d1292dd button.colab-df-convert');\n",
              "        buttonEl.style.display =\n",
              "          google.colab.kernel.accessAllowed ? 'block' : 'none';\n",
              "\n",
              "        async function convertToInteractive(key) {\n",
              "          const element = document.querySelector('#df-a8842a7b-e2b4-4144-ad8d-94df8d1292dd');\n",
              "          const dataTable =\n",
              "            await google.colab.kernel.invokeFunction('convertToInteractive',\n",
              "                                                     [key], {});\n",
              "          if (!dataTable) return;\n",
              "\n",
              "          const docLinkHtml = 'Like what you see? Visit the ' +\n",
              "            '<a target=\"_blank\" href=https://colab.research.google.com/notebooks/data_table.ipynb>data table notebook</a>'\n",
              "            + ' to learn more about interactive tables.';\n",
              "          element.innerHTML = '';\n",
              "          dataTable['output_type'] = 'display_data';\n",
              "          await google.colab.output.renderOutput(dataTable, element);\n",
              "          const docLink = document.createElement('div');\n",
              "          docLink.innerHTML = docLinkHtml;\n",
              "          element.appendChild(docLink);\n",
              "        }\n",
              "      </script>\n",
              "    </div>\n",
              "  </div>\n",
              "  "
            ]
          },
          "metadata": {},
          "execution_count": 4
        }
      ]
    },
    {
      "cell_type": "code",
      "metadata": {
        "colab": {
          "base_uri": "https://localhost:8080/",
          "height": 206
        },
        "id": "pycKJ5jWkShW",
        "outputId": "88cd0a70-19bf-4d7e-8ffa-16ed6e1d5ad8"
      },
      "source": [
        "min=10000\n",
        "max=200000\n",
        "df[(df.salary_monthly_NETO > min) & (df.salary_monthly_NETO < max)]\\\n",
        "  [['profile_gender', 'salary_monthly_NETO']].groupby('profile_gender').describe()"
      ],
      "execution_count": 69,
      "outputs": [
        {
          "output_type": "execute_result",
          "data": {
            "text/plain": [
              "               salary_monthly_NETO                                       \\\n",
              "                             count          mean           std      min   \n",
              "profile_gender                                                            \n",
              "Hombre                      4459.0  81604.741245  36188.505101  10700.0   \n",
              "Mujer                        838.0  72286.367053  32465.561583  12000.0   \n",
              "Otros                         25.0  80260.000000  44573.628227  34000.0   \n",
              "\n",
              "                                                      \n",
              "                    25%      50%       75%       max  \n",
              "profile_gender                                        \n",
              "Hombre          54000.0  78000.0  102000.0  199000.0  \n",
              "Mujer           47775.0  67000.0   92000.0  199000.0  \n",
              "Otros           40000.0  74000.0  101000.0  190000.0  "
            ],
            "text/html": [
              "\n",
              "  <div id=\"df-d277e38f-5829-43d7-ba91-56a773b39b8a\">\n",
              "    <div class=\"colab-df-container\">\n",
              "      <div>\n",
              "<style scoped>\n",
              "    .dataframe tbody tr th:only-of-type {\n",
              "        vertical-align: middle;\n",
              "    }\n",
              "\n",
              "    .dataframe tbody tr th {\n",
              "        vertical-align: top;\n",
              "    }\n",
              "\n",
              "    .dataframe thead tr th {\n",
              "        text-align: left;\n",
              "    }\n",
              "\n",
              "    .dataframe thead tr:last-of-type th {\n",
              "        text-align: right;\n",
              "    }\n",
              "</style>\n",
              "<table border=\"1\" class=\"dataframe\">\n",
              "  <thead>\n",
              "    <tr>\n",
              "      <th></th>\n",
              "      <th colspan=\"8\" halign=\"left\">salary_monthly_NETO</th>\n",
              "    </tr>\n",
              "    <tr>\n",
              "      <th></th>\n",
              "      <th>count</th>\n",
              "      <th>mean</th>\n",
              "      <th>std</th>\n",
              "      <th>min</th>\n",
              "      <th>25%</th>\n",
              "      <th>50%</th>\n",
              "      <th>75%</th>\n",
              "      <th>max</th>\n",
              "    </tr>\n",
              "    <tr>\n",
              "      <th>profile_gender</th>\n",
              "      <th></th>\n",
              "      <th></th>\n",
              "      <th></th>\n",
              "      <th></th>\n",
              "      <th></th>\n",
              "      <th></th>\n",
              "      <th></th>\n",
              "      <th></th>\n",
              "    </tr>\n",
              "  </thead>\n",
              "  <tbody>\n",
              "    <tr>\n",
              "      <th>Hombre</th>\n",
              "      <td>4459.0</td>\n",
              "      <td>81604.741245</td>\n",
              "      <td>36188.505101</td>\n",
              "      <td>10700.0</td>\n",
              "      <td>54000.0</td>\n",
              "      <td>78000.0</td>\n",
              "      <td>102000.0</td>\n",
              "      <td>199000.0</td>\n",
              "    </tr>\n",
              "    <tr>\n",
              "      <th>Mujer</th>\n",
              "      <td>838.0</td>\n",
              "      <td>72286.367053</td>\n",
              "      <td>32465.561583</td>\n",
              "      <td>12000.0</td>\n",
              "      <td>47775.0</td>\n",
              "      <td>67000.0</td>\n",
              "      <td>92000.0</td>\n",
              "      <td>199000.0</td>\n",
              "    </tr>\n",
              "    <tr>\n",
              "      <th>Otros</th>\n",
              "      <td>25.0</td>\n",
              "      <td>80260.000000</td>\n",
              "      <td>44573.628227</td>\n",
              "      <td>34000.0</td>\n",
              "      <td>40000.0</td>\n",
              "      <td>74000.0</td>\n",
              "      <td>101000.0</td>\n",
              "      <td>190000.0</td>\n",
              "    </tr>\n",
              "  </tbody>\n",
              "</table>\n",
              "</div>\n",
              "      <button class=\"colab-df-convert\" onclick=\"convertToInteractive('df-d277e38f-5829-43d7-ba91-56a773b39b8a')\"\n",
              "              title=\"Convert this dataframe to an interactive table.\"\n",
              "              style=\"display:none;\">\n",
              "        \n",
              "  <svg xmlns=\"http://www.w3.org/2000/svg\" height=\"24px\"viewBox=\"0 0 24 24\"\n",
              "       width=\"24px\">\n",
              "    <path d=\"M0 0h24v24H0V0z\" fill=\"none\"/>\n",
              "    <path d=\"M18.56 5.44l.94 2.06.94-2.06 2.06-.94-2.06-.94-.94-2.06-.94 2.06-2.06.94zm-11 1L8.5 8.5l.94-2.06 2.06-.94-2.06-.94L8.5 2.5l-.94 2.06-2.06.94zm10 10l.94 2.06.94-2.06 2.06-.94-2.06-.94-.94-2.06-.94 2.06-2.06.94z\"/><path d=\"M17.41 7.96l-1.37-1.37c-.4-.4-.92-.59-1.43-.59-.52 0-1.04.2-1.43.59L10.3 9.45l-7.72 7.72c-.78.78-.78 2.05 0 2.83L4 21.41c.39.39.9.59 1.41.59.51 0 1.02-.2 1.41-.59l7.78-7.78 2.81-2.81c.8-.78.8-2.07 0-2.86zM5.41 20L4 18.59l7.72-7.72 1.47 1.35L5.41 20z\"/>\n",
              "  </svg>\n",
              "      </button>\n",
              "      \n",
              "  <style>\n",
              "    .colab-df-container {\n",
              "      display:flex;\n",
              "      flex-wrap:wrap;\n",
              "      gap: 12px;\n",
              "    }\n",
              "\n",
              "    .colab-df-convert {\n",
              "      background-color: #E8F0FE;\n",
              "      border: none;\n",
              "      border-radius: 50%;\n",
              "      cursor: pointer;\n",
              "      display: none;\n",
              "      fill: #1967D2;\n",
              "      height: 32px;\n",
              "      padding: 0 0 0 0;\n",
              "      width: 32px;\n",
              "    }\n",
              "\n",
              "    .colab-df-convert:hover {\n",
              "      background-color: #E2EBFA;\n",
              "      box-shadow: 0px 1px 2px rgba(60, 64, 67, 0.3), 0px 1px 3px 1px rgba(60, 64, 67, 0.15);\n",
              "      fill: #174EA6;\n",
              "    }\n",
              "\n",
              "    [theme=dark] .colab-df-convert {\n",
              "      background-color: #3B4455;\n",
              "      fill: #D2E3FC;\n",
              "    }\n",
              "\n",
              "    [theme=dark] .colab-df-convert:hover {\n",
              "      background-color: #434B5C;\n",
              "      box-shadow: 0px 1px 3px 1px rgba(0, 0, 0, 0.15);\n",
              "      filter: drop-shadow(0px 1px 2px rgba(0, 0, 0, 0.3));\n",
              "      fill: #FFFFFF;\n",
              "    }\n",
              "  </style>\n",
              "\n",
              "      <script>\n",
              "        const buttonEl =\n",
              "          document.querySelector('#df-d277e38f-5829-43d7-ba91-56a773b39b8a button.colab-df-convert');\n",
              "        buttonEl.style.display =\n",
              "          google.colab.kernel.accessAllowed ? 'block' : 'none';\n",
              "\n",
              "        async function convertToInteractive(key) {\n",
              "          const element = document.querySelector('#df-d277e38f-5829-43d7-ba91-56a773b39b8a');\n",
              "          const dataTable =\n",
              "            await google.colab.kernel.invokeFunction('convertToInteractive',\n",
              "                                                     [key], {});\n",
              "          if (!dataTable) return;\n",
              "\n",
              "          const docLinkHtml = 'Like what you see? Visit the ' +\n",
              "            '<a target=\"_blank\" href=https://colab.research.google.com/notebooks/data_table.ipynb>data table notebook</a>'\n",
              "            + ' to learn more about interactive tables.';\n",
              "          element.innerHTML = '';\n",
              "          dataTable['output_type'] = 'display_data';\n",
              "          await google.colab.output.renderOutput(dataTable, element);\n",
              "          const docLink = document.createElement('div');\n",
              "          docLink.innerHTML = docLinkHtml;\n",
              "          element.appendChild(docLink);\n",
              "        }\n",
              "      </script>\n",
              "    </div>\n",
              "  </div>\n",
              "  "
            ]
          },
          "metadata": {},
          "execution_count": 69
        }
      ]
    },
    {
      "cell_type": "code",
      "source": [
        "is_man = df.profile_gender == 'Hombre'\n",
        "groupA = df[(df.salary_monthly_NETO >min) & (df.salary_monthly_NETO < max) & is_man].salary_monthly_NETO\n",
        "groupB = df[(df.salary_monthly_NETO > min) & (df.salary_monthly_NETO < max) & ~is_man].salary_monthly_NETO"
      ],
      "metadata": {
        "id": "-uKcqJTEh8b9"
      },
      "execution_count": 70,
      "outputs": []
    },
    {
      "cell_type": "markdown",
      "source": [
        "Veamos la distribucion de las subpoblaciones"
      ],
      "metadata": {
        "id": "kwCXGgD_RFrx"
      }
    },
    {
      "cell_type": "code",
      "source": [
        "plt.figure(figsize=(20, 8))\n",
        "ax1 = seaborn.distplot(groupA, bins=30, color='b')\n",
        "ax2 = seaborn.distplot(groupB, bins=30, color='pink')\n",
        "plt.axvline(numpy.mean(groupA), color='b', linestyle='dashed', linewidth=3)\n",
        "plt.axvline(numpy.mean(groupB), color='pink', linestyle='dashed', linewidth=3)"
      ],
      "metadata": {
        "colab": {
          "base_uri": "https://localhost:8080/",
          "height": 647
        },
        "id": "qiVOVka-gF0c",
        "outputId": "ee90210b-0d6a-49a6-fba6-2acefb732afa"
      },
      "execution_count": 71,
      "outputs": [
        {
          "output_type": "stream",
          "name": "stderr",
          "text": [
            "/usr/local/lib/python3.7/dist-packages/seaborn/distributions.py:2619: FutureWarning: `distplot` is a deprecated function and will be removed in a future version. Please adapt your code to use either `displot` (a figure-level function with similar flexibility) or `histplot` (an axes-level function for histograms).\n",
            "  warnings.warn(msg, FutureWarning)\n",
            "/usr/local/lib/python3.7/dist-packages/seaborn/distributions.py:2619: FutureWarning: `distplot` is a deprecated function and will be removed in a future version. Please adapt your code to use either `displot` (a figure-level function with similar flexibility) or `histplot` (an axes-level function for histograms).\n",
            "  warnings.warn(msg, FutureWarning)\n"
          ]
        },
        {
          "output_type": "execute_result",
          "data": {
            "text/plain": [
              "<matplotlib.lines.Line2D at 0x7f25a3b3acd0>"
            ]
          },
          "metadata": {},
          "execution_count": 71
        },
        {
          "output_type": "display_data",
          "data": {
            "text/plain": [
              "<Figure size 1440x576 with 1 Axes>"
            ],
            "image/png": "[encoded data removed]"
          },
          "metadata": {
            "needs_background": "light"
          }
        }
      ]
    },
    {
      "cell_type": "code",
      "source": [
        "seaborn.histplot(groupA, bins=40)\n",
        "scipy.stats.kurtosistest(groupA)"
      ],
      "metadata": {
        "colab": {
          "base_uri": "https://localhost:8080/",
          "height": 320
        },
        "id": "Y_IOGGQuRJjA",
        "outputId": "85bbae65-5525-4ad1-e169-26aea17d4abc"
      },
      "execution_count": 72,
      "outputs": [
        {
          "output_type": "execute_result",
          "data": {
            "text/plain": [
              "KurtosistestResult(statistic=3.0130676987689227, pvalue=0.002586212174189478)"
            ]
          },
          "metadata": {},
          "execution_count": 72
        },
        {
          "output_type": "display_data",
          "data": {
            "text/plain": [
              "<Figure size 432x288 with 1 Axes>"
            ],
            "image/png": "[encoded data removed]"
          },
          "metadata": {
            "needs_background": "light"
          }
        }
      ]
    },
    {
      "cell_type": "code",
      "source": [
        "seaborn.histplot(groupB, bins=40)\n",
        "scipy.stats.kurtosistest(groupB)"
      ],
      "metadata": {
        "colab": {
          "base_uri": "https://localhost:8080/",
          "height": 320
        },
        "id": "cZw7isi8T49k",
        "outputId": "3926bb59-e95a-48d4-cb3d-4405e9224d3e"
      },
      "execution_count": 73,
      "outputs": [
        {
          "output_type": "execute_result",
          "data": {
            "text/plain": [
              "KurtosistestResult(statistic=3.0859000392992857, pvalue=0.002029370336118785)"
            ]
          },
          "metadata": {},
          "execution_count": 73
        },
        {
          "output_type": "display_data",
          "data": {
            "text/plain": [
              "<Figure size 432x288 with 1 Axes>"
            ],
            "image/png": "[encoded data removed]"
          },
          "metadata": {
            "needs_background": "light"
          }
        }
      ]
    },
    {
      "cell_type": "markdown",
      "metadata": {
        "id": "co_0M_ojtmUh"
      },
      "source": [
        "## Ejercicio 1: Estimación\n",
        "\n",
        "**Consigna:**  Calcular una estimación puntual y un intervalo de confianza de nivel (1-alpha) para la resta entre la media del salario Neto para Hombres menos la media del salario Neto para otros géneros(diferencia de las medias entre el grupoA y grupoB). \n",
        "¿Cómo se relaciona este intervalo de confianza con el test de hipótesis?"
      ]
    },
    {
      "cell_type": "markdown",
      "source": [
        "El estimador puntual para la diferencia de medias poblacionales $μ_1 -μ_2$ esta dado por la diferencia de medias muestrales  $̅x_1 -  \\bar x_2$"
      ],
      "metadata": {
        "id": "NOOFu-PrI-lD"
      }
    },
    {
      "cell_type": "code",
      "metadata": {
        "id": "0fA1RQ0upe6N",
        "colab": {
          "base_uri": "https://localhost:8080/"
        },
        "outputId": "974997b6-6d59-4cfd-9abc-8f8f241680ad"
      },
      "source": [
        "X_A=groupA.mean() #promedio grupoA\n",
        "s_A=(groupA.std())*(groupA.std()) #varianza muestral gA\n",
        "n_A=groupA.count() #n del grupoA (cantidad de hombres en la muestra)\n",
        "X_B=groupB.mean() #promedio grupoB\n",
        "s_B=(groupB.std())*(groupB.std()) #varianza muestral gB\n",
        "n_B=groupB.count() #n del grupoB (cantidad de ~hombres en la muestra)\n",
        "alpha1=0.05\n",
        "nu=(((s_A/n_A)+(s_B/n_B))**2)/(((s_A/n_A)**2/(n_A-1))+((s_B/n_B)**2/(n_B-1))) #grados de libertad\n",
        "t=scipy.stats.t.ppf(1-(alpha1/2), nu)    \n",
        "Li=E - t*(((s_A/n_A)+(s_B/n_B))**(0.5))\n",
        "Ls=E + t*(((s_A/n_A)+(s_B/n_B))**(0.5))\n",
        "print('El promedio de salario en la subpoblacion de hombres es %.2f, mientras que el promedio de salario en la subpoblacion de otros generos es %.2f' % (X_A, X_B))\n",
        "print('El valor esperado para la diferencia promedios de salarios entre las subpoblaciones es = $%.2f' % (E))\n",
        "print('Con un nivel de significacion alpha = %.2f, el intervalo de confianza para ese valor es = ($%.2f,$%.2f)' % (alpha1, Li, Ls))\n",
        "print('En terminos relativos estarian percibiendo salarios entr %.2f - %.2f porciento por debajo de sus colegas hombres' % (Li/X_A*100, Ls/X_A*100))\n",
        "\n",
        "\n"
      ],
      "execution_count": 126,
      "outputs": [
        {
          "output_type": "stream",
          "name": "stdout",
          "text": [
            "El promedio de salario en la subpoblacion de hombres es 81604.74, mientras que el promedio de salario en la subpoblacion de otros generos es 72517.35\n",
            "El valor esperado para la diferencia promedios de salarios entre las subpoblaciones es = $9087.39\n",
            "Con un nivel de significacion alpha = 0.05, el intervalo de confianza para ese valor es = ($6648.30,$11526.48)\n",
            "En terminos relativos estarian percibiendo salarios entr 8.15 - 14.12 porciento por debajo de sus colegas hombres\n"
          ]
        }
      ]
    },
    {
      "cell_type": "markdown",
      "metadata": {
        "id": "IFi2T7Y6nM92"
      },
      "source": [
        "## Ejercicio 2: Test de hipótesis\n"
      ]
    },
    {
      "cell_type": "markdown",
      "source": [
        "Describir formalmente los distintos componentes de un test de hipótesis para comprobar si la distribución de los salarios es distinta entre los grupos A y B.\n",
        "\n",
        "**Hipotesis nula $H_0$:** Se plantea y presupone verdadera a priori, especifica los valores de un parámetro de la distribución de la variable aleatoria observada en el experimento.\n",
        "\n",
        "**Hipotesis alternativa $H_1$:** Propone como posibles valores del parámetro analizado el conjunto de valores complementarios al postulado bajo $H_0$.\n",
        "\n",
        "**Definicion nivel de significacion:** Es la probabilidad de rechazar $H_0$ cuando $H_0$, es verdadera. Es decir:\n",
        "$ \\alpha = P ( rechazar\\: H_0 / H_0 \\:es \\:verdadera) $\n",
        "\n",
        "**Estadistico de prueba**: El estadistico de prueba es una función de las mediciones muestrales, cuya distribución es conocida y queda completamente especificada bajo $H_0$. Es decir que es posible calcular sus probabilidades acumuladas en un intervalo dado, estas probabilidaes conducen a aceptar o rechazar $H_0$.\n",
        "\n",
        "\n"
      ],
      "metadata": {
        "id": "CJfloQR_P4z9"
      }
    },
    {
      "cell_type": "markdown",
      "source": [
        "##Test dos colas"
      ],
      "metadata": {
        "id": "m_WMdeq3dQTp"
      }
    },
    {
      "cell_type": "markdown",
      "source": [
        "**Hipótesis Nula**\n",
        "\n",
        "$H_0\\toμ_1 -μ_2=0$\n",
        "\n",
        "**Hipótesis Alternativa**\n",
        "\n",
        "$H_1\\toμ_1 -μ_2\\ne0$\n",
        "\n",
        "**Estadístico (Pivote)**\n",
        "  * El estadístico es\n",
        "  $t=\\frac{\\left(x_1 - x_2  \\right)-\\left(\\mu_1 - \\mu_2  \\right)}{\\sqrt{\\frac{s_{1}^{2}}{n_1}+\\frac{s_{2}^{2}}{n_2}}}  $\n",
        "\n",
        "  Con:\n",
        "\n",
        "  $x_i= $ media muestral\n",
        "\n",
        "  $s_i^{2}= $ varianza muestral\n",
        "\n",
        "  $n_i=$ tamano de muestra\n",
        "\n",
        "  * El estadistico de prueba $t$ bajo $H_0$ tiene distribución t-student con $\\nu$ grados de libertad, donde \n",
        "\n",
        "  $\\nu =\\frac{ \\left ( \\frac{s_{1}^{2}}{n_1}+\\frac{s_{2}^{2}}{n_2} \\right )^{2}}{\\frac{s_{1}^{4}}{n_1^{2}\\nu_1}+\\frac{s_{2}^{4}}{n_2^{2}\\nu_2}}$"
      ],
      "metadata": {
        "id": "Tr-8DHvSo0HV"
      }
    },
    {
      "cell_type": "code",
      "source": [
        "def dif_mean(arr_1, arr_2, alpha):\n",
        "\n",
        "    nu=(((s_A/n_A)+(s_B/n_B))**2)/(((s_A/n_A)**2/(n_A-1))+((s_B/n_B)**2/(n_B-1))) #grados de libertad\n",
        "    t=scipy.stats.t.ppf(1-(alpha/2), nu)    \n",
        "    Li=E - t*(((s_A/n_A)+(s_B/n_B))**(0.5))\n",
        "    Ls=E + t*(((s_A/n_A)+(s_B/n_B))**(0.5))\n",
        "    print('El valor esperado para la diferencia de medias es = $%.2f' % (E))\n",
        "    print('Con un nivel de significacion alpha = %.2f, el intervalo de confianza para ese valor es es = ($%.2f,$%.2f)' % (alpha, Li, Ls))\n",
        "    \n",
        "    #TH por p-valor\n",
        "    statistic, pvalue=scipy.stats.ttest_ind(arr_1, arr_2,equal_var=False, nan_policy='omit')\n",
        "    #print('p-valor=%.25f' % (pvalue))\n",
        "    #print('t rechazo=%.5f, grados de libertad=%.5f, t critico=%.5f' % (t,nu,statistic))\n",
        "    print('Con un nivel de significacion %.2f' % (alpha))\n",
        "    if pvalue > alpha/2:\n",
        "        print('No existe evidencia para suponer que las distribuciones sean distintas (no puedo rechazar H0)')\n",
        "    else:\n",
        "        print('Y a traves de los datos muestrales obtenidos, hay evidencia suficiente para suponer que los promedios de las distribuciones son significativamente diferentes (rechazo H0)')\n",
        "    "
      ],
      "metadata": {
        "id": "5yqgvTyYktXN"
      },
      "execution_count": 123,
      "outputs": []
    },
    {
      "cell_type": "code",
      "source": [
        "alpha=0.05\n",
        "dif_mean(groupA, groupB, alpha)"
      ],
      "metadata": {
        "colab": {
          "base_uri": "https://localhost:8080/"
        },
        "id": "og2wNdPmkvgf",
        "outputId": "49601ee4-c17f-4551-c04a-ff4b1e697dab"
      },
      "execution_count": 124,
      "outputs": [
        {
          "output_type": "stream",
          "name": "stdout",
          "text": [
            "El valor esperado para la diferencia de medias es = $9087.39\n",
            "Con un nivel de significacion alpha = 0.05, el intervalo de confianza para ese valor es es = ($6648.30,$11526.48)\n",
            "Con un nivel de significacion 0.05\n",
            "Y a traves de los datos muestrales obtenidos, hay evidencia suficiente para suponer que los promedios de las distribuciones son significativamente diferentes (rechazo H0)\n"
          ]
        }
      ]
    },
    {
      "cell_type": "code",
      "source": [
        "alpha=0.01\n",
        "dif_mean(groupA, groupB, alpha)"
      ],
      "metadata": {
        "colab": {
          "base_uri": "https://localhost:8080/"
        },
        "id": "xN1QjQ22w5Iq",
        "outputId": "60b06525-8e12-4171-bf16-4aee6149074a"
      },
      "execution_count": 125,
      "outputs": [
        {
          "output_type": "stream",
          "name": "stdout",
          "text": [
            "El valor esperado para la diferencia de medias es = $9087.39\n",
            "Con un nivel de significacion alpha = 0.01, el intervalo de confianza para ese valor es es = ($5880.16,$12294.62)\n",
            "Con un nivel de significacion 0.01\n",
            "Y a traves de los datos muestrales obtenidos, hay evidencia suficiente para suponer que los promedios de las distribuciones son significativamente diferentes (rechazo H0)\n"
          ]
        }
      ]
    },
    {
      "cell_type": "markdown",
      "source": [
        "##Test una cola\n",
        "\n",
        "**Hipótesis Nula**\n",
        "\n",
        "$H_0\\toμ_1 -μ_2\\leq K$\n",
        "\n",
        "**Hipótesis Alternativa**\n",
        "\n",
        "$H_1\\toμ_1 -μ_2>K$\n",
        "\n",
        "**Estadístico (Pivote)**\n",
        "  * El estadístico es\n",
        "  $t=\\frac{\\left(x_1 - x_2  \\right)-\\left(\\mu_1 - \\mu_2  \\right)}{\\sqrt{\\frac{s_{1}^{2}}{n_1}+\\frac{s_{2}^{2}}{n_2}}} =\\frac{\\left(x_1 - x_2  \\right)-K}{\\sqrt{\\frac{s_{1}^{2}}{n_1}+\\frac{s_{2}^{2}}{n_2}}}  $\n",
        " $t$ bajo $H_0$ tiene distribución t-student con media 0 y varianza $\\frac{\\nu}{\\nu-2}$ donde $\\nu$ son los grados de libertad y \n",
        "\n",
        "  $\\nu =\\frac{ \\left ( \\frac{s_{1}^{2}}{n_1}+\\frac{s_{2}^{2}}{n_2} \\right )^{2}}{\\frac{s_{1}^{4}}{n_1^{2}\\nu_1}+\\frac{s_{2}^{4}}{n_2^{2}\\nu_2}}$\n",
        "  \n",
        "  \n",
        "  Con:\n",
        "\n",
        "  $x_i= $ media muestral\n",
        "\n",
        "  $s_i^{2}= $ varianza muestral\n",
        "\n",
        "  $n_i=$ tamano de muestra\n",
        "\n",
        " \n",
        "  "
      ],
      "metadata": {
        "id": "UbLLvCWFZilM"
      }
    },
    {
      "cell_type": "code",
      "source": [
        "def dif_mean_CD(arr_1, arr_2, alpha):\n",
        "\n",
        "    #nu=(((s_A/n_A)+(s_B/n_B))**2)/((s_A**2/((n_A-1)*(n_A**2)))+(s_B**2/(n_B-1)*(n_B**2)))\n",
        "    nu=(((s_A/n_A)+(s_B/n_B))**2)/(((s_A/n_A)**2/(n_A-1))+((s_B/n_B)**2/(n_B-1)))\n",
        "    t=scipy.stats.t.ppf(1-(alpha), nu)\n",
        "    \n",
        "    statistic= (E-K)/(((s_A/n_A)+(s_B/n_B))**(0.5))    \n",
        "    Li=E-K - t*(((s_A/n_A)+(s_B/n_B))**(0.5))\n",
        "    Ls=E-K + t*(((s_A/n_A)+(s_B/n_B))**(0.5))\n",
        "    print('El valor esperado para la diferencia de medias es = $%.2f' % (E))\n",
        "    print('Con un nivel de significacion alpha = %.2f, el intervalo de confianza para ese valor es es = ($%.2f,$%.2f)' % (alpha, Li, Ls))\n",
        "    print('t rechazo=%.5f, nu=%.0f, t critico=%.5f' % (t,nu,statistic))\n",
        "\n",
        "    #TH por p-valor\n",
        "    pvalue= 1 - scipy.stats.t.cdf(statistic, nu)\n",
        "    print('p-valor=%.25f' % (pvalue))\n",
        "    if pvalue > alpha:\n",
        "        print('La brecha de salario en favor de hombres es de hasta  $%.2f  (no existe evidencia para rechazar H0)' % (K))\n",
        "    else:\n",
        "        print('Rechazo H0')\n",
        "\n",
        "    "
      ],
      "metadata": {
        "id": "7T89EOiOdhbe"
      },
      "execution_count": 121,
      "outputs": []
    },
    {
      "cell_type": "code",
      "source": [
        "alpha=0.05\n",
        "K=9000\n",
        "dif_mean_CD(groupA, groupB, alpha)"
      ],
      "metadata": {
        "colab": {
          "base_uri": "https://localhost:8080/"
        },
        "outputId": "f6bffcd8-4d23-46e9-9ce9-5d3cb45a85b7",
        "id": "F4ltWFY5etn2"
      },
      "execution_count": 120,
      "outputs": [
        {
          "output_type": "stream",
          "name": "stdout",
          "text": [
            "El valor esperado para la diferencia de medias es = $9087.39\n",
            "Con un nivel de significacion alpha = 0.05, el intervalo de confianza para ese valor es es = ($-1959.11,$2133.89)\n",
            "t rechazo=1.64603, nu=1299.99394, t critico=0.07029\n",
            "p-valor=0.4719878009326997636563306\n",
            "La brecha de salario en favor de hombres es de hasta  $9000.00  (no existe evidencia para rechazar H0)\n"
          ]
        }
      ]
    },
    {
      "cell_type": "markdown",
      "source": [
        "##La distribución podria considerarse normal a pesar de tener varianzas desconocidas???"
      ],
      "metadata": {
        "id": "_0KDSDx_Zg89"
      }
    },
    {
      "cell_type": "markdown",
      "source": [
        "Y si dado que la muestra es considerablemente grande supongo una distribucion normal, con $s_A≈\\sigma_A$ y $s_B≈\\sigma_B$?\n",
        "\n",
        "En este caso el intervalo de confianza para la diferencia de medias de dos poblaciones  $μ_1 -μ_2$ con un tamaño de muestra grande se puede calcular como\n",
        "$\\left(x_1 - x_2  \\right) \\mp Z_{\\alpha/2}\\sqrt{\\frac{\\sigma_{1}^{2}}{n_1}+\\frac{\\sigma_{2}^{2}}{n_2}}$\n"
      ],
      "metadata": {
        "id": "26Hm_q4ZJ-fs"
      }
    },
    {
      "cell_type": "markdown",
      "metadata": {
        "id": "Rzxe8UYU6EfJ"
      },
      "source": [
        "**Hipótesis Nula**\n",
        "\n",
        "$H_0\\toμ_1 -μ_2=0$\n",
        "\n",
        "**Hipótesis Alternativa**\n",
        "\n",
        "$H_1\\toμ_1 -μ_2\\ne0$\n",
        "\n",
        "**Estadístico (Pivote)**\n",
        "\n",
        "  $Z=\\frac{\\left(x_1 - x_2  \\right)-\\left(\\mu_1 - \\mu_2  \\right)}{\\sqrt{\\frac{\\sigma_{1}^{2}}{n_1}+\\frac{\\sigma_{2}^{2}}{n_2}}}  $\n",
        "   bajo $H_0$ tiene distribución normal con media $\\mu=0$ y desvio $\\sigma=1$\n"
      ]
    },
    {
      "cell_type": "markdown",
      "source": [
        "Calculo del intervalo de confianza"
      ],
      "metadata": {
        "id": "Ps_IRD8IcKYM"
      }
    },
    {
      "cell_type": "code",
      "source": [
        "Liz=X_A-X_B - 1.96*(((s_A/n_A)+(s_B/n_B))**0.5)\n",
        "Lsz=X_A-X_B + 1.96*(((s_A/n_A)+(s_B/n_B))**0.5)\n",
        "print('E=$%.2f,IC=($%.2f, $%.2f)' % (E,Liz, Lsz))\n"
      ],
      "metadata": {
        "colab": {
          "base_uri": "https://localhost:8080/"
        },
        "id": "_E4yKOvcOzwE",
        "outputId": "d1c234b6-c9c1-40b1-85ac-da5fe7df8030"
      },
      "execution_count": 118,
      "outputs": [
        {
          "output_type": "stream",
          "name": "stdout",
          "text": [
            "E=$9087.39,IC=($6650.53, $11524.25)\n"
          ]
        }
      ]
    },
    {
      "cell_type": "code",
      "source": [
        "Zc=(X_A-X_B)/(((s_A/n_A)+(s_B/n_B))**0.5)\n",
        "pzvalue=scipy.stats.norm.sf (abs (Zc))\n",
        "print('Estadistico=%.2f, p-valor=%.20f' % (Zc, pzvalue))\n"
      ],
      "metadata": {
        "colab": {
          "base_uri": "https://localhost:8080/"
        },
        "id": "n17vzWfpU67l",
        "outputId": "c4f839c6-8883-4a4b-ad3c-1d7a83965ae1"
      },
      "execution_count": null,
      "outputs": [
        {
          "output_type": "stream",
          "name": "stdout",
          "text": [
            "Estadistico=7.30910, p-valor=0.0000000000001344638873012\n"
          ]
        }
      ]
    },
    {
      "cell_type": "markdown",
      "source": [
        "Nivel de significación $\\alpha=0,05$ entonces $Z_{\\alpha/2}=1,96$\n",
        "\n",
        "Region de recahzo: $RR={z>1,96}$\n",
        "\n",
        "$Z_c >>> RR$ rechazo $H_0$"
      ],
      "metadata": {
        "id": "KftH2P6VVHDb"
      }
    },
    {
      "cell_type": "markdown",
      "metadata": {
        "id": "8VxiQr5YrQYR"
      },
      "source": [
        "### [Opcional] 2.3 Potencia del test\n",
        "\n",
        "Nuestra muestra, ¿era lo suficientemente grande para detectar si existe o no una diferencia entre los grupos?\n",
        "\n",
        "1. Utilice la función `tt_ind_solve_power` para calcular el tamaño necesario de la muestra para un poder estadístico de 0.8, 0.9 y 0.95, asumiendo una significancia estadística de 0.05.\n",
        "2. ¿Cómo intepretan el poder estadístico de un test? Dado su conocimiento de dominio sobre los datos, ¿les parece que esta muestra es lo suficientemente grande para ser representativo de la tendencia general? ¿y para utilizarlo en un juicio penal contra una empresa XX por una causa de discriminación?\n",
        "\n",
        "[Documentación](https://www.statsmodels.org/stable/generated/statsmodels.stats.power.tt_ind_solve_power.html)\n",
        "\n",
        "NOTA: este análisis debería hacerse ANTES de recolectar los datos."
      ]
    },
    {
      "cell_type": "code",
      "metadata": {
        "id": "_IiqGfo4t6Db",
        "colab": {
          "base_uri": "https://localhost:8080/"
        },
        "outputId": "d4ad1597-2776-4800-f9bd-3719ad4dcc9a"
      },
      "source": [
        "from statsmodels.stats.power import tt_ind_solve_power"
      ],
      "execution_count": 39,
      "outputs": [
        {
          "output_type": "stream",
          "name": "stderr",
          "text": [
            "/usr/local/lib/python3.7/dist-packages/statsmodels/tools/_testing.py:19: FutureWarning: pandas.util.testing is deprecated. Use the functions in the public API at pandas.testing instead.\n",
            "  import pandas.util.testing as tm\n"
          ]
        }
      ]
    },
    {
      "cell_type": "code",
      "metadata": {
        "id": "LUQ7MA2Apj9x",
        "colab": {
          "base_uri": "https://localhost:8080/"
        },
        "outputId": "1f77bd0f-75fe-4ea7-86fc-d69392a8d708"
      },
      "source": [
        "effect_size = (groupA.mean() - groupB.mean()) / groupB.std()\n",
        "# nobs1=None  - What we want to know\n",
        "alpha = 0.05\n",
        "ratio = n_B / n_A\n",
        "power = 0.8 #cambiar a 0.8, 0.9 y 0.95\n",
        "\n",
        "nobsGroup_A=tt_ind_solve_power(effect_size=effect_size, alpha=alpha, nobs1=None, power=power, ratio=ratio)\n",
        "print('Numero de observaciones necesarias en la muestra aleatoria de Hombres=%.0f para obtener una potencia de test de %.2f' % (nobsGroup_A, power))\n",
        "print('Numero de observaciones necesarias en la muestra aleatoria de ~Hombres=%.0f para obtener una potencia de test de %.2f' % (nobsGroup_A*ratio, power))\n",
        "if n_A > nobsGroup_A and n_B > nobsGroup_A*ratio:\n",
        "        print('Los muestra tomada (%.0f hombres y %.0f otros generos) tiene un tamano suficiente para realizar un test de potencia %.2f' % (n_A, n_B, power))\n",
        "else:\n",
        "        print('El tamano de una de las muestras es insuficiente para un test de potencia %.2f' % (power))"
      ],
      "execution_count": 104,
      "outputs": [
        {
          "output_type": "stream",
          "name": "stdout",
          "text": [
            "Numero de observaciones necesarias en la muestra aleatoria de Hombres=635 para obtener una potencia de test de 0.80\n",
            "Numero de observaciones necesarias en la muestra aleatoria de ~Hombres=123 para obtener una potencia de test de 0.80\n",
            "Los muestra tomada (4459 hombres y 863 otros generos) tiene un tamano suficiente para realizar un test de potencia 0.80\n"
          ]
        }
      ]
    },
    {
      "cell_type": "code",
      "metadata": {
        "colab": {
          "base_uri": "https://localhost:8080/"
        },
        "id": "cvHcpY-3ty8Q",
        "outputId": "2c8e2c68-363a-440c-e073-f7b73b1b54c4"
      },
      "source": [
        "Effect_size = (groupA.mean() - groupB.mean()) / (((groupB.std()**2 + groupB.std()**2)/2)**0.5)\n",
        "alpha = 0.05\n",
        "ratio = n_B/n_A\n",
        "\n",
        "Power=tt_ind_solve_power(effect_size=effect_size, alpha=alpha, nobs1=n_A,power=None, ratio=ratio)\n",
        "print(Power)\n",
        "print(Effect_size)\n",
        "\n",
        "tt_ind_solve_power(effect_size=None, alpha=0.05, nobs1=4459,power=0.8, ratio=n_B/n_A)"
      ],
      "execution_count": 108,
      "outputs": [
        {
          "output_type": "stream",
          "name": "stdout",
          "text": [
            "1.0\n",
            "0.27644983689138936\n"
          ]
        },
        {
          "output_type": "execute_result",
          "data": {
            "text/plain": [
              "0.10420648868280498"
            ]
          },
          "metadata": {},
          "execution_count": 108
        }
      ]
    },
    {
      "cell_type": "markdown",
      "source": [
        "\n",
        "\n",
        "---\n",
        "\n",
        "\n",
        "# A pesar de que el tamaño de la muestra es lo suficientemente grande, desconocemos, necesitariamos más información sobre la metodología de encuesta y la seleccion de los casos, para poder afirmar que la muestra es representativa de la realidad de la población. \n",
        "\n",
        "---\n",
        "\n"
      ],
      "metadata": {
        "id": "8jZcSWSqe7Of"
      }
    },
    {
      "cell_type": "markdown",
      "metadata": {
        "id": "useKMdPyMod5"
      },
      "source": [
        "## Ejercicio 3: Comunicación y visualización\n",
        "\n",
        "**Consigna:** Seleccionen un resultado que les parezca relevante a partir de alguno de los ejercicios del entregable. Diseñe e implemente una comunicación en base a este mensaje, en un archivo PDF.\n",
        "\n",
        "Elija las palabras y visualización más adecuada para que la comunicación sea entendible, efectiva y se dapte a UNA de las siguientes situaciones:\n",
        "\n",
        "1. Una sección en un artículo de difusión a presentar como parte de una organización sin fines de lucro.\n",
        "No más de 1 página A4 (o dos si los gráficos son muy grandes).\n",
        "  1. Ejemplo: Alguna de las secciones [Los ecosistemas de emprendimiento de América Latina y el Caribe frente al COVID-19: Impactos, necesidades y recomendaciones](https://publications.iadb.org/es/los-ecosistemas-de-emprendimiento-de-america-latina-y-el-caribe-frente-al-covid-19-impactos-necesidades-y-recomendaciones), por ejemplo la sección *2.2. Reacciones de los emprendedores*.\n",
        "  2. Ejemplo: Alguna de las secciones de [The state of gender pay gap in 2021](https://www.payscale.com/data/gender-pay-gap?tk=carousel-ps-rc-job)\n",
        "  3. Puntos clave: \n",
        "    1. Simpleza de los gráficos.\n",
        "    2. Comunicación en lenguaje simple a personas que no son necesariamente expertos de dominio.\n",
        "    2. Selección de UNA oración sobre la que se hace énfasis.\n",
        "    3. No es necesario que mencionen objetivos ni descripciones del conjunto de datos, se supone que eso ya estaría explicado en otras secciones del informe.\n",
        "\n",
        "2. Una publicación científica o reporte técnico interno. No más de una página A4:\n",
        "  2. Ejemplo: La sección de resultados de [IZA DP No. 12914: The Impact of a Minimum Wage Change on the Distribution of Wages and Household Income](https://www.iza.org/publications/dp/12914/the-impact-of-a-minimum-wage-change-on-the-distribution-of-wages-and-household-income).\n",
        "  2. Ejemplo: Alguna de las secciones de [Temporary reduction in daily global CO2 emissions during the COVID-19 forced confinement](https://www.nature.com/articles/s41558-020-0797-x)\n",
        "  3. Puntos clave:\n",
        "    3. Nivel de detalle técnico requerido. Es necesario justificar la validez del análisis.\n",
        "    4. La idea presentada puede ser más compleja. Pueden asumir que la audiencia tiene conocimiento técnico y va a analizar las visualizaciones en detalle. \n",
        "    5. Pueden presentar más en detalle las limitaciones del análisis (significancia estadística, etc.)\n",
        "    2. No es necesario que mencionen objetivos ni descripciones del conjunto de datos, se supone que eso ya estaría explicado en otras secciones del informe.\n",
        "\n",
        "3. Un tweet (o post de LinkedIn) para la cuenta de su empresa consultora que hace análisis de datos. El objetivo es promocionar un análisis de datos abiertos que van a incluir en su portfolio:\n",
        "  1. Ejemplo: [Comparación vacunas covid](https://twitter.com/infobeautiful/status/1381577746527236098?s=20)\n",
        "  2. Ejemplo: [Tweet del BID](https://twitter.com/el_BID/status/1388508583944507396?s=20). Lo valioso de este tweet es que usaron un único número para transmitir un mensaje. Puede ser algo así, o con un gráfico muy simple.\n",
        "  3. Ejemplo: [Cambio climático](https://twitter.com/UNFCCC/status/1387732156190011394?s=20) Es un muy buen ejemplo, excepto que el gráfico no se lee nada y hay que entrar a la publicación original.\n",
        "  3. Ejemplo: [¿Cuánto están los programadores en las empresas?](https://www.linkedin.com/posts/denis-rothman-0b034043_tech-career-work-activity-6793861923269054464-gS6y) (No verificamos la veracidad o seriedad de la fuente).\n",
        "  4. Puntos clave:\n",
        "    1. Su audiencia no va a mirar la visualización por más de unos segundos, y no tiene conocimiento técnico.\n",
        "  3. Tienen que incluir además una *breve* descripción de cómo obtuvieron los datos que están presentando, que no entraría en el tweet.\n"
      ]
    }
  ]
}